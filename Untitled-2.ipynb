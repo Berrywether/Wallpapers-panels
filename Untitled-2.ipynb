{
 "cells": [
  {
   "cell_type": "code",
   "execution_count": 1,
   "metadata": {},
   "outputs": [],
   "source": [
    "import json\n",
    "import os\n",
    "\n",
    "try:\n",
    "    import requests\n",
    "except ImportError:\n",
    "    %pip install requests\n",
    "\n",
    "dir=os.getcwd()\n",
    "\n",
    "with open(dir+'\\\\media-1a-i-p~s.json') as f:\n",
    "    file = f.read()\n",
    "\n",
    "parsed = json.loads(file)\n",
    "box=[]\n",
    "for id in parsed['data'].keys():\n",
    "    box.append(parsed['data'][id])\n",
    "\n",
    "link=[]\n",
    "for item in box:\n",
    "     try:\n",
    "        link.append(item['dhd'])\n",
    "     except KeyError:\n",
    "        pass\n",
    "\n",
    "for num in range(len(link)):\n",
    "    url = link[num].split('?')[0].split('/')[-1]\n",
    "    img = requests.get(link[num], stream=True)\n",
    "    open(url, 'wb').write(img.content)"
   ]
  }
 ],
 "metadata": {
  "kernelspec": {
   "display_name": "Python 3",
   "language": "python",
   "name": "python3"
  },
  "language_info": {
   "codemirror_mode": {
    "name": "ipython",
    "version": 3
   },
   "file_extension": ".py",
   "mimetype": "text/x-python",
   "name": "python",
   "nbconvert_exporter": "python",
   "pygments_lexer": "ipython3",
   "version": "3.11.9"
  }
 },
 "nbformat": 4,
 "nbformat_minor": 2
}
